{
 "cells": [
  {
   "cell_type": "markdown",
   "metadata": {},
   "source": [
    "# LAB-02"
   ]
  },
  {
   "cell_type": "markdown",
   "metadata": {},
   "source": [
    "# Class Task"
   ]
  },
  {
   "cell_type": "code",
   "execution_count": 2,
   "metadata": {},
   "outputs": [
    {
     "name": "stdout",
     "output_type": "stream",
     "text": [
      "[10, 22, 44, 23, 4]\n",
      "[10, 22, 44, 23, 4]\n"
     ]
    }
   ],
   "source": [
    "original_list1 = [10, 22, 44, 23, 4] \n",
    "new_list2 = list(original_list1) \n",
    "print(original_list1) \n",
    "print(new_list2) "
   ]
  },
  {
   "cell_type": "code",
   "execution_count": 3,
   "metadata": {},
   "outputs": [
    {
     "name": "stdout",
     "output_type": "stream",
     "text": [
      "()\n",
      "()\n"
     ]
    }
   ],
   "source": [
    "#Create an empty tuple  \n",
    "x = () \n",
    "print(x) \n",
    "#Create an empty tuple with tuple() function built-in Python \n",
    "tuple1 = tuple() \n",
    "print(tuple1) "
   ]
  },
  {
   "cell_type": "code",
   "execution_count": 4,
   "metadata": {},
   "outputs": [
    {
     "name": "stdout",
     "output_type": "stream",
     "text": [
      "('tuple', False, 3.2, 1)\n"
     ]
    }
   ],
   "source": [
    "#Create a tuple with different data types \n",
    "tuple2 = (\"tuple\", False, 3.2, 1) \n",
    "print(tuple2) "
   ]
  },
  {
   "cell_type": "code",
   "execution_count": 5,
   "metadata": {},
   "outputs": [
    {
     "name": "stdout",
     "output_type": "stream",
     "text": [
      "('U', 'I', 'T', 2, 0, 1, 8, 'b', 'a', 't', 'c', 'h')\n",
      "2\n",
      "a\n"
     ]
    }
   ],
   "source": [
    "#Get an item of the tuple \n",
    "tuplex = (\"U\", \"I\", \"T\", 2, 0, 1, 8, \"b\", \"a\", \"t\", \"c\" , \"h\") \n",
    "print(tuplex) \n",
    "#Get item (4th element)of the tuple by index \n",
    "item = tuplex[3] \n",
    "print(item) \n",
    "#Get item (4th element from last)by index negative \n",
    "item1 = tuplex[-4] \n",
    "print(item1) "
   ]
  },
  {
   "cell_type": "code",
   "execution_count": 1,
   "metadata": {},
   "outputs": [
    {
     "name": "stdout",
     "output_type": "stream",
     "text": [
      "[2, 3, 4, 5, 6]\n",
      "[2, 3, 4, 5, 6]\n",
      "[]\n",
      "[2, 3, 4, 5, 6]\n"
     ]
    }
   ],
   "source": [
    "lst = [2, 3, 4]\n",
    "lst.extend([5, 6])\n",
    "print(lst)\n",
    "lst2 = lst.copy()\n",
    "print(lst2)\n",
    "lst.clear()\n",
    "print(lst)\n",
    "print(lst2)"
   ]
  },
  {
   "cell_type": "markdown",
   "metadata": {},
   "source": [
    "# Home Task"
   ]
  },
  {
   "cell_type": "markdown",
   "metadata": {},
   "source": [
    "# Question 1"
   ]
  },
  {
   "cell_type": "code",
   "execution_count": 3,
   "metadata": {},
   "outputs": [
    {
     "name": "stdout",
     "output_type": "stream",
     "text": [
      "Please enter the year  :2019\n",
      "Please enter the month :2\n",
      "Please enter the day   :2\n",
      "The number of days between 2019-01-06 and 2019-02-02 is: 27 days\n"
     ]
    }
   ],
   "source": [
    "import datetime\n",
    "date_today = datetime.date.today()\n",
    "year = int(input(\"Please enter the year  :\"))\n",
    "month = int(input(\"Please enter the month :\"))\n",
    "day = int(input(\"Please enter the day   :\"))\n",
    "date_user = datetime.date(year,month,day)\n",
    "days = abs(date_today - date_user)\n",
    "print(\"The number of days between\",date_today,\"and\",date_user,\"is:\",days.days,\"days\")"
   ]
  },
  {
   "cell_type": "markdown",
   "metadata": {},
   "source": [
    "# Question 2"
   ]
  },
  {
   "cell_type": "code",
   "execution_count": 4,
   "metadata": {},
   "outputs": [
    {
     "name": "stdout",
     "output_type": "stream",
     "text": [
      "Input the length of the ladder: 16\n",
      "Input the angle storing the length of the ladder: 75\n",
      "15.454813220625093\n"
     ]
    }
   ],
   "source": [
    "#(a)16 feet and 75 degrees\n",
    "from math import pi\n",
    "from math import sin\n",
    "length = int(input(\"Input the length of the ladder: \"))\n",
    "angle = int(input(\"Input the angle storing the length of the ladder: \"))\n",
    "radians = (pi/180)*angle\n",
    "height = ((length)*((sin(radians))))\n",
    "print(height)"
   ]
  },
  {
   "cell_type": "code",
   "execution_count": 5,
   "metadata": {},
   "outputs": [
    {
     "name": "stdout",
     "output_type": "stream",
     "text": [
      "Input the length of the ladder: 20\n",
      "Input the angle storing the length of the ladder: 0\n",
      "0.0\n"
     ]
    }
   ],
   "source": [
    "# (b)20 feet and 0 degrees\n",
    "from math import pi\n",
    "from math import sin\n",
    "length = int(input(\"Input the length of the ladder: \"))\n",
    "angle = int(input(\"Input the angle storing the length of the ladder: \"))\n",
    "radians = (pi/180)*angle\n",
    "height = ((length)*((sin(radians))))\n",
    "print(height)"
   ]
  },
  {
   "cell_type": "code",
   "execution_count": 7,
   "metadata": {},
   "outputs": [
    {
     "name": "stdout",
     "output_type": "stream",
     "text": [
      "Input the length of the ladder: 24\n",
      "Input the angle storing the length of the ladder: 45\n",
      "16.97056274847714\n"
     ]
    }
   ],
   "source": [
    "#(c)24 feet and 45 degrees\n",
    "from math import pi\n",
    "from math import sin\n",
    "length = int(input(\"Input the length of the ladder: \"))\n",
    "angle = int(input(\"Input the angle storing the length of the ladder: \"))\n",
    "radians = (pi/180)*angle\n",
    "height = ((length)*((sin(radians))))\n",
    "print(height)"
   ]
  },
  {
   "cell_type": "code",
   "execution_count": 8,
   "metadata": {},
   "outputs": [
    {
     "name": "stdout",
     "output_type": "stream",
     "text": [
      "Input the length of the ladder: 24\n",
      "Input the angle storing the length of the ladder: 80\n",
      "23.63538607229299\n"
     ]
    }
   ],
   "source": [
    "#(d)24 feet and 80 degrees\n",
    "from math import pi\n",
    "from math import sin\n",
    "length = int(input(\"Input the length of the ladder: \"))\n",
    "angle = int(input(\"Input the angle storing the length of the ladder: \"))\n",
    "radians = (pi/180)*angle\n",
    "height = ((length)*((sin(radians))))\n",
    "print(height)"
   ]
  },
  {
   "cell_type": "markdown",
   "metadata": {},
   "source": [
    "# Question 3"
   ]
  },
  {
   "cell_type": "code",
   "execution_count": 9,
   "metadata": {},
   "outputs": [
    {
     "data": {
      "text/plain": [
       "3"
      ]
     },
     "execution_count": 9,
     "metadata": {},
     "output_type": "execute_result"
    }
   ],
   "source": [
    "#(a)An expression that evaluates to the index of the middle element of lst\n",
    "numbers = ['1', '2', '3', '4', '5', '6', '7']\n",
    "numbers.index('4')"
   ]
  },
  {
   "cell_type": "code",
   "execution_count": 10,
   "metadata": {},
   "outputs": [
    {
     "data": {
      "text/plain": [
       "'4'"
      ]
     },
     "execution_count": 10,
     "metadata": {},
     "output_type": "execute_result"
    }
   ],
   "source": [
    "#(b)An expression that evaluates to the middle element of lst\n",
    "numbers[3]"
   ]
  },
  {
   "cell_type": "code",
   "execution_count": 11,
   "metadata": {},
   "outputs": [
    {
     "name": "stdout",
     "output_type": "stream",
     "text": [
      "['7', '6', '5', '4', '3', '2', '1']\n"
     ]
    }
   ],
   "source": [
    "#(c)A statement that sorts the list lst in descending order\n",
    "numbers.reverse()\n",
    "print(numbers)"
   ]
  },
  {
   "cell_type": "code",
   "execution_count": 12,
   "metadata": {},
   "outputs": [
    {
     "name": "stdout",
     "output_type": "stream",
     "text": [
      "['2', '3', '4', '5', '6', '7', '1']\n"
     ]
    }
   ],
   "source": [
    "#(d)A statement that removes the first number of list lst and puts it at the end\n",
    "numbers.reverse()\n",
    "numbers.remove('1')\n",
    "numbers.append('1')\n",
    "print(numbers)"
   ]
  },
  {
   "cell_type": "markdown",
   "metadata": {},
   "source": [
    "# Question 4"
   ]
  },
  {
   "cell_type": "code",
   "execution_count": 13,
   "metadata": {},
   "outputs": [
    {
     "name": "stdout",
     "output_type": "stream",
     "text": [
      "['Jan', 'Feb', 'March', 'May', 'April']\n",
      "['Jan', 'Feb', 'March', 'May', 'April', 'June']\n",
      "['Jan', 'Feb', 'March', 'May', 'April']\n",
      "['Jan', 'March', 'May', 'April']\n",
      "['April', 'May', 'March', 'Jan']\n",
      "['April', 'Jan', 'March', 'May']\n"
     ]
    }
   ],
   "source": [
    "monthsL = ['Jan','Feb','March','May']\n",
    "monthsT = ('Jan','Feb','March','May')\n",
    "monthsL.insert(4,'April')\n",
    "print(monthsL)\n",
    "monthsL.append('June')\n",
    "print(monthsL)\n",
    "monthsL.pop()\n",
    "print(monthsL)\n",
    "monthsL.remove('Feb')\n",
    "print(monthsL)\n",
    "monthsL.reverse()\n",
    "print(monthsL)\n",
    "monthsL.sort()\n",
    "print(monthsL)"
   ]
  },
  {
   "cell_type": "code",
   "execution_count": 14,
   "metadata": {},
   "outputs": [
    {
     "name": "stdout",
     "output_type": "stream",
     "text": [
      "('Jan', 'Feb', 'March', 'May')\n",
      "['Jan', 'Feb', 'March', 'May']\n",
      "['Jan', 'Feb', 'March', 'May', 'April']\n",
      "['Jan', 'Feb', 'March', 'May', 'April', 'June']\n",
      "['Jan', 'Feb', 'March', 'May', 'April']\n",
      "['Jan', 'March', 'May', 'April']\n",
      "['April', 'May', 'March', 'Jan']\n",
      "['April', 'Jan', 'March', 'May']\n"
     ]
    }
   ],
   "source": [
    "#For MonthsT\n",
    "print(monthsT)\n",
    "tmonths = list(monthsT)\n",
    "print(tmonths)\n",
    "tmonths.insert(4,'April')\n",
    "print(tmonths)\n",
    "tmonths.append('June')\n",
    "print(tmonths)\n",
    "tmonths.pop()\n",
    "print(tmonths)\n",
    "tmonths.remove('Feb')\n",
    "print(tmonths)\n",
    "tmonths.reverse()\n",
    "print(tmonths)\n",
    "tmonths.sort()\n",
    "print(tmonths)"
   ]
  },
  {
   "cell_type": "markdown",
   "metadata": {},
   "source": [
    "# Question 5"
   ]
  },
  {
   "cell_type": "code",
   "execution_count": 16,
   "metadata": {},
   "outputs": [
    {
     "name": "stdout",
     "output_type": "stream",
     "text": [
      "1\n"
     ]
    }
   ],
   "source": [
    "#(a)The number of characters in the word \"anachronistically\" is 1 more than the number of characters in the word \"counterintuitive.\"\n",
    "wordone = \"anachronistically\"\n",
    "wordtwo = \"counterintuitive\"\n",
    "diff = len(wordone) - len(wordtwo)\n",
    "print(diff)"
   ]
  },
  {
   "cell_type": "code",
   "execution_count": 17,
   "metadata": {},
   "outputs": [
    {
     "name": "stdout",
     "output_type": "stream",
     "text": [
      "True\n"
     ]
    }
   ],
   "source": [
    "#(b)The word \"misinterpretation\" appears earlier in the dictionary than the word \"misrepresentation.\"\n",
    "word1 = \"misinterpretation\"\n",
    "word2 = \"misrepresentation\"\n",
    "dic = word1 < word2\n",
    "print(dic)"
   ]
  },
  {
   "cell_type": "code",
   "execution_count": 18,
   "metadata": {},
   "outputs": [
    {
     "data": {
      "text/plain": [
       "False"
      ]
     },
     "execution_count": 18,
     "metadata": {},
     "output_type": "execute_result"
    }
   ],
   "source": [
    "# (c)The letter \"e\" does not appear in the word \"floccinaucinihilipilification.\"\n",
    "\n",
    "wordf = \"floccinaucinihilipilification\"\n",
    "'e' in wordf"
   ]
  },
  {
   "cell_type": "code",
   "execution_count": 19,
   "metadata": {},
   "outputs": [
    {
     "data": {
      "text/plain": [
       "True"
      ]
     },
     "execution_count": 19,
     "metadata": {},
     "output_type": "execute_result"
    }
   ],
   "source": [
    "#(d)The number of characters in the word \"counterrevolution\" is equal to the sum of the number of characters in words \"counter\" and \"resolution.\"\n",
    "fword = \"counterrevolution\"\n",
    "sword = \"counter\"\n",
    "tword = \"resolution\"\n",
    "len(fword) == len(sword) + len(tword)"
   ]
  },
  {
   "cell_type": "markdown",
   "metadata": {},
   "source": [
    "# Question 6"
   ]
  },
  {
   "cell_type": "code",
   "execution_count": 20,
   "metadata": {},
   "outputs": [
    {
     "name": "stdout",
     "output_type": "stream",
     "text": [
      "6.5\n",
      "['paper', 'staples', 'pencils']\n",
      "John Fitzgerald Kennedy\n"
     ]
    }
   ],
   "source": [
    "#(a)Assign 6 to variable a and 7 to variable b.\n",
    "a = int(6)\n",
    "b = int(7)\n",
    "#(b)Assign to variable c the average of variables a and b.\n",
    "c = ((a+b)/2)\n",
    "print(c)\n",
    "#(c)Assign to variable inventory the list containing strings 'paper', 'staples', and 'pencils'.\n",
    "inventory = ['paper', 'staples', 'pencils']\n",
    "print(inventory)\n",
    "#(d)Assign to variables first, middle and last the strings 'John', 'Fitzgerald', and 'Kennedy'.\n",
    "first = str('John')\n",
    "middle = str('Fitzgerald')\n",
    "last = str('Kennedy')\n",
    "#(e)Assign to variable fullname the concatenation of string variables first, middle, and last. \n",
    "fullname = first+ ' ' + middle + ' ' + last\n",
    "print(fullname)"
   ]
  },
  {
   "cell_type": "markdown",
   "metadata": {},
   "source": [
    "# Question 7"
   ]
  },
  {
   "cell_type": "code",
   "execution_count": 21,
   "metadata": {},
   "outputs": [
    {
     "name": "stdout",
     "output_type": "stream",
     "text": [
      "Input value for x co-ordinate: 0\n",
      "Input value for y co-ordinate: 0\n",
      "0.0\n",
      "Hit\n"
     ]
    }
   ],
   "source": [
    "#(a) (0; 0)\n",
    "x = int(input(\"Input value for x co-ordinate: \"))\n",
    "y = int(input(\"Input value for y co-ordinate: \"))\n",
    "radius = int(10)\n",
    "import math\n",
    "distance = math.sqrt(x*x + y*y)\n",
    "print(distance)\n",
    "if distance<radius:\n",
    "    print(\"Hit\")\n",
    "else:\n",
    "    print(\"Miss\")"
   ]
  },
  {
   "cell_type": "code",
   "execution_count": 22,
   "metadata": {},
   "outputs": [
    {
     "name": "stdout",
     "output_type": "stream",
     "text": [
      "Input value for x co-ordinate: 10\n",
      "Input value for y co-ordinate: 10\n",
      "14.142135623730951\n",
      "Miss\n"
     ]
    }
   ],
   "source": [
    "#(b) (10; 10)\n",
    "x = int(input(\"Input value for x co-ordinate: \"))\n",
    "y = int(input(\"Input value for y co-ordinate: \"))\n",
    "radius = int(10)\n",
    "import math\n",
    "distance = math.sqrt(x*x + y*y)\n",
    "print(distance)\n",
    "if distance<radius:\n",
    "    print(\"Hit\")\n",
    "else:\n",
    "    print(\"Miss\")"
   ]
  },
  {
   "cell_type": "code",
   "execution_count": 23,
   "metadata": {},
   "outputs": [
    {
     "name": "stdout",
     "output_type": "stream",
     "text": [
      "Input value for x co-ordinate: 6\n",
      "Input value for y co-ordinate: 6\n",
      "8.48528137423857\n",
      "Hit\n"
     ]
    }
   ],
   "source": [
    "#(c) (6; 6)\n",
    "x = int(input(\"Input value for x co-ordinate: \"))\n",
    "y = int(input(\"Input value for y co-ordinate: \"))\n",
    "radius = int(10)\n",
    "import math\n",
    "distance = math.sqrt(x*x + y*y)\n",
    "print(distance)\n",
    "if distance<radius:\n",
    "    print(\"Hit\")\n",
    "else:\n",
    "    print(\"Miss\")"
   ]
  },
  {
   "cell_type": "code",
   "execution_count": 24,
   "metadata": {},
   "outputs": [
    {
     "name": "stdout",
     "output_type": "stream",
     "text": [
      "Input value for x co-ordinate: 7\n",
      "Input value for y co-ordinate: 8\n",
      "10.63014581273465\n",
      "Miss\n"
     ]
    }
   ],
   "source": [
    "#(d) (7; 8)\n",
    "x = int(input(\"Input value for x co-ordinate: \"))\n",
    "y = int(input(\"Input value for y co-ordinate: \"))\n",
    "radius = int(10)\n",
    "import math\n",
    "distance = math.sqrt(x*x + y*y)\n",
    "print(distance)\n",
    "if distance<radius:\n",
    "    print(\"Hit\")\n",
    "else:\n",
    "    print(\"Miss\")"
   ]
  },
  {
   "cell_type": "code",
   "execution_count": null,
   "metadata": {},
   "outputs": [],
   "source": []
  }
 ],
 "metadata": {
  "kernelspec": {
   "display_name": "Python 3",
   "language": "python",
   "name": "python3"
  },
  "language_info": {
   "codemirror_mode": {
    "name": "ipython",
    "version": 3
   },
   "file_extension": ".py",
   "mimetype": "text/x-python",
   "name": "python",
   "nbconvert_exporter": "python",
   "pygments_lexer": "ipython3",
   "version": "3.6.4"
  }
 },
 "nbformat": 4,
 "nbformat_minor": 2
}
